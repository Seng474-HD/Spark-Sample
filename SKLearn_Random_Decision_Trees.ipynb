{
 "cells": [
  {
   "cell_type": "code",
   "execution_count": 1,
   "metadata": {
    "scrolled": false
   },
   "outputs": [
    {
     "name": "stdout",
     "output_type": "stream",
     "text": [
      "2.7.12rc1 (v2.7.12rc1:13912cd1e7e8, Jun 11 2016, 15:32:34) \n",
      "[GCC 4.2.1 (Apple Inc. build 5666) (dot 3)]\n"
     ]
    }
   ],
   "source": [
    "import sys\n",
    "print(sys.version)\n",
    "from pyspark import SparkContext\n",
    "from pyspark.sql import SparkSession\n",
    "from pyspark.sql.functions import *"
   ]
  },
  {
   "cell_type": "code",
   "execution_count": 2,
   "metadata": {},
   "outputs": [],
   "source": [
    "from pyspark.mllib.regression import LabeledPoint\n",
    "def transform_data(data):\n",
    "    prediction_col = \"failure\"\n",
    "    columns = []#[\"serial_number\", \"model\", \"capacity_bytes\"]\n",
    "    # Add Smart columns.\n",
    "    for i in range(1, 255):\n",
    "        test_col = \"smart_\" + str(i) + \"_normalized\"\n",
    "        try:\n",
    "            data[test_col]\n",
    "            columns.append(test_col)\n",
    "        except:\n",
    "            pass\n",
    "    return (float(data[prediction_col]), [0.0 if data[i] is None else data[i] for i in columns])"
   ]
  },
  {
   "cell_type": "code",
   "execution_count": 3,
   "metadata": {
    "scrolled": true
   },
   "outputs": [
    {
     "name": "stdout",
     "output_type": "stream",
     "text": [
      "([100, 135, 127, 100, 100, 100, 122, 95, 100, 0.0, 100, 0.0, 0.0, 0.0, 0.0, 0.0, 0.0, 0.0, 0.0, 0.0, 0.0, 100, 100, 253, 0.0, 100, 100, 100, 200, 0.0, 0.0, 0.0, 0.0, 0.0, 0.0, 0.0, 0.0, 0.0, 0.0, 0.0, 0.0, 0.0, 0.0, 0.0], <type 'tuple'>, 0.0, <type 'tuple'>)\n"
     ]
    }
   ],
   "source": [
    "from pyspark.conf import *\n",
    "spark = SparkSession.builder.master(\"local[*]\").appName(\"SENG474-HD\").getOrCreate()\n",
    "df = spark.read.load('data_Q1_2017/2017-03-2*.csv', \n",
    "                     format='com.databricks.spark.csv', \n",
    "                     header='true', \n",
    "                     inferSchema='true')\n",
    "\n",
    "#data = df.filter(col(\"failure\") == 1).rdd.map(transform_data).collect()\n",
    "data = df.rdd.map(transform_data).collect()\n",
    "\n",
    "labels, data = zip(*data)\n",
    "print(data[0], type(data), labels[0], type(labels))"
   ]
  },
  {
   "cell_type": "code",
   "execution_count": 4,
   "metadata": {},
   "outputs": [
    {
     "name": "stdout",
     "output_type": "stream",
     "text": [
      "838240\n"
     ]
    }
   ],
   "source": [
    "print(len(labels))"
   ]
  },
  {
   "cell_type": "code",
   "execution_count": 5,
   "metadata": {
    "scrolled": true
   },
   "outputs": [
    {
     "name": "stdout",
     "output_type": "stream",
     "text": [
      "SKLean Test Error: 0.009941%\n"
     ]
    }
   ],
   "source": [
    "import sklearn\n",
    "from sklearn.model_selection import train_test_split\n",
    "from sklearn.ensemble import RandomForestClassifier\n",
    "\n",
    "data_train, data_test, labels_train, labels_test = train_test_split(data, labels, test_size=0.3)\n",
    "\n",
    "clf = RandomForestClassifier(max_depth=2, random_state=0)\n",
    "clf.fit(data_train, labels_train)\n",
    "predictions = clf.predict(data_test)\n",
    "labels_and_predictions = zip(predictions, labels_test)\n",
    "testErr = float(len(filter(lambda lp: lp[0] != lp[1], labels_and_predictions))) / float(len(data_test))\n",
    "print(\"SKLean Test Error: {0:03f}%\".format(testErr * 100.0))"
   ]
  },
  {
   "cell_type": "code",
   "execution_count": 10,
   "metadata": {
    "scrolled": false
   },
   "outputs": [
    {
     "name": "stdout",
     "output_type": "stream",
     "text": [
      "(0.0, 0.0)\n"
     ]
    }
   ],
   "source": [
    "print(labels_and_predictions[0])"
   ]
  },
  {
   "cell_type": "code",
   "execution_count": 8,
   "metadata": {},
   "outputs": [
    {
     "name": "stdout",
     "output_type": "stream",
     "text": [
      "+-------------------+--------------+--------------------+--------------+-------+------------------+-----------+------------------+-----------+------------------+-----------+------------------+-----------+------------------+-----------+------------------+-----------+------------------+-----------+------------------+-----------+-------------------+------------+-------------------+------------+-------------------+------------+-------------------+------------+-------------------+------------+-------------------+------------+--------------------+-------------+--------------------+-------------+--------------------+-------------+--------------------+-------------+--------------------+-------------+--------------------+-------------+--------------------+-------------+--------------------+-------------+--------------------+-------------+--------------------+-------------+--------------------+-------------+--------------------+-------------+--------------------+-------------+--------------------+-------------+--------------------+-------------+--------------------+-------------+--------------------+-------------+--------------------+-------------+--------------------+-------------+--------------------+-------------+--------------------+-------------+--------------------+-------------+--------------------+-------------+--------------------+---------------+--------------------+-------------+--------------------+-------------+--------------------+-------------+--------------------+-------------+--------------------+-------------+--------------------+-------------+--------------------+-------------+\n",
      "|               date| serial_number|               model|capacity_bytes|failure|smart_1_normalized|smart_1_raw|smart_2_normalized|smart_2_raw|smart_3_normalized|smart_3_raw|smart_4_normalized|smart_4_raw|smart_5_normalized|smart_5_raw|smart_7_normalized|smart_7_raw|smart_8_normalized|smart_8_raw|smart_9_normalized|smart_9_raw|smart_10_normalized|smart_10_raw|smart_11_normalized|smart_11_raw|smart_12_normalized|smart_12_raw|smart_13_normalized|smart_13_raw|smart_15_normalized|smart_15_raw|smart_22_normalized|smart_22_raw|smart_183_normalized|smart_183_raw|smart_184_normalized|smart_184_raw|smart_187_normalized|smart_187_raw|smart_188_normalized|smart_188_raw|smart_189_normalized|smart_189_raw|smart_190_normalized|smart_190_raw|smart_191_normalized|smart_191_raw|smart_192_normalized|smart_192_raw|smart_193_normalized|smart_193_raw|smart_194_normalized|smart_194_raw|smart_195_normalized|smart_195_raw|smart_196_normalized|smart_196_raw|smart_197_normalized|smart_197_raw|smart_198_normalized|smart_198_raw|smart_199_normalized|smart_199_raw|smart_200_normalized|smart_200_raw|smart_201_normalized|smart_201_raw|smart_220_normalized|smart_220_raw|smart_222_normalized|smart_222_raw|smart_223_normalized|smart_223_raw|smart_224_normalized|smart_224_raw|smart_225_normalized|smart_225_raw|smart_226_normalized|smart_226_raw|smart_240_normalized|  smart_240_raw|smart_241_normalized|smart_241_raw|smart_242_normalized|smart_242_raw|smart_250_normalized|smart_250_raw|smart_251_normalized|smart_251_raw|smart_252_normalized|smart_252_raw|smart_254_normalized|smart_254_raw|smart_255_normalized|smart_255_raw|\n",
      "+-------------------+--------------+--------------------+--------------+-------+------------------+-----------+------------------+-----------+------------------+-----------+------------------+-----------+------------------+-----------+------------------+-----------+------------------+-----------+------------------+-----------+-------------------+------------+-------------------+------------+-------------------+------------+-------------------+------------+-------------------+------------+-------------------+------------+--------------------+-------------+--------------------+-------------+--------------------+-------------+--------------------+-------------+--------------------+-------------+--------------------+-------------+--------------------+-------------+--------------------+-------------+--------------------+-------------+--------------------+-------------+--------------------+-------------+--------------------+-------------+--------------------+-------------+--------------------+-------------+--------------------+-------------+--------------------+-------------+--------------------+-------------+--------------------+-------------+--------------------+-------------+--------------------+-------------+--------------------+-------------+--------------------+-------------+--------------------+-------------+--------------------+---------------+--------------------+-------------+--------------------+-------------+--------------------+-------------+--------------------+-------------+--------------------+-------------+--------------------+-------------+--------------------+-------------+\n",
      "|2017-03-25 00:00:00|      Z305B9AF|         ST4000DM000| 4000787030016|      1|               114|   67422696|              null|       null|                95|          0|               100|          5|               100|          0|                86|  424253427|              null|       null|                89|      10126|                100|           0|               null|        null|                100|           4|               null|        null|               null|        null|               null|        null|                 100|            0|                 100|            0|                 100|            0|                 100|            0|                 100|            0|                  68|           32|                 100|            0|                 100|            0|                  98|         4036|                  32|           32|                null|         null|                null|         null|                 100|            0|                 100|            0|                 200|            0|                null|         null|                null|         null|                null|         null|                null|         null|                null|         null|                null|         null|                null|         null|                null|         null|                 100|          10034|                 100|  32471518144|                 100|  10399450807|                null|         null|                null|         null|                null|         null|                null|         null|                null|         null|\n",
      "|2017-03-25 00:00:00|      ZA13R2DH|         ST8000DM002| 8001563222016|      1|                81|  134762432|              null|       null|                98|          0|               100|          1|               100|          0|                89|  769532637|              null|       null|                96|       3535|                100|           0|               null|        null|                100|           1|               null|        null|               null|        null|               null|        null|                null|         null|                 100|            0|                 100|            0|                 100|            0|                 100|            0|                  73|           27|                  98|         4509|                 100|            1|                 100|          956|                  27|           27|                   1|    134762432|                null|         null|                 100|            0|                 100|            0|                 200|            0|                null|         null|                null|         null|                null|         null|                null|         null|                null|         null|                null|         null|                null|         null|                null|         null|                 100|           3487|                 100|  23750463016|                 100|   6380256832|                null|         null|                null|         null|                null|         null|                null|         null|                null|         null|\n",
      "|2017-03-25 00:00:00|      Z302SSKB|         ST4000DM000| 4000787030016|      1|               112|   42915080|              null|       null|                94|          0|               100|          6|               100|          0|                87|  533884390|              null|       null|                85|      13921|                100|           0|               null|        null|                100|           6|               null|        null|               null|        null|               null|        null|                 100|            0|                 100|            0|                 100|            0|                 100|            0|                 100|            0|                  77|           23|                 100|            0|                 100|            0|                  90|        20001|                  23|           23|                null|         null|                null|         null|                 100|            8|                 100|            8|                 200|            0|                null|         null|                null|         null|                null|         null|                null|         null|                null|         null|                null|         null|                null|         null|                null|         null|                 100|          13808|                 100|  39335243088|                 100|  12462924527|                null|         null|                null|         null|                null|         null|                null|         null|                null|         null|\n",
      "|2017-03-25 00:00:00|      W300L044|         ST4000DM000| 4000787030016|      1|               113|   53202616|              null|       null|                92|          0|               100|         10|               100|          0|                90|  966990079|              null|       null|                67|      29710|                100|           0|               null|        null|                100|          10|               null|        null|               null|        null|               null|        null|                  99|            1|                 100|            0|                 100|            0|                 100|            0|                   1|          264|                  78|           22|                 100|            0|                 100|            2|                  72|        56495|                  22|           22|                null|         null|                null|         null|                 100|            0|                 100|            0|                 200|            0|                null|         null|                null|         null|                null|         null|                null|         null|                null|         null|                null|         null|                null|         null|                null|         null|                 100|          29464|                 100|  28869190088|                 100| 252190116451|                null|         null|                null|         null|                null|         null|                null|         null|                null|         null|\n",
      "|2017-03-25 00:00:00|      Z3048KGN|         ST4000DM000| 4000787030016|      1|               109|  235495923|              null|       null|                96|          0|               100|          4|               100|         16|                87|  554455393|              null|       null|                86|      12840|                100|           0|               null|        null|                100|           4|               null|        null|               null|        null|               null|        null|                  98|            2|                 100|            0|                  80|           20|                 100|            0|                 100|            0|                  76|           24|                 100|            0|                 100|            0|                  97|         6739|                  24|           24|                null|         null|                null|         null|                 100|            0|                 100|            0|                 200|            0|                null|         null|                null|         null|                null|         null|                null|         null|                null|         null|                null|         null|                null|         null|                null|         null|                 100|          12755|                 100|  40100050520|                 100|  20226054201|                null|         null|                null|         null|                null|         null|                null|         null|                null|         null|\n",
      "|2017-03-25 00:00:00|PL1331LAGRDPMH|HGST HMS5C4040ALE640| 4000787030016|      1|               100|          0|               133|        104|               100|        454|               100|          9|               100|          0|               100|          0|               111|         43|                97|      23709|                100|           0|               null|        null|                100|           9|               null|        null|               null|        null|               null|        null|                null|         null|                null|         null|                null|         null|                null|         null|                null|         null|                null|         null|                null|         null|                 100|          334|                 100|          334|                 222|           27|                null|         null|                 100|            0|                 100|            0|                 100|            0|                 200|            0|                null|         null|                null|         null|                null|         null|                null|         null|                null|         null|                null|         null|                null|         null|                null|         null|                null|           null|                null|         null|                null|         null|                null|         null|                null|         null|                null|         null|                null|         null|                null|         null|\n",
      "|2017-03-25 00:00:00|      Z305B6Z6|         ST4000DM000| 4000787030016|      1|                96|   20490074|              null|       null|                97|          0|               100|          3|               100|          0|                86|  454464883|              null|       null|                88|      11161|                100|           0|               null|        null|                100|           3|               null|        null|               null|        null|               null|        null|                  88|           12|                 100|            0|                  82|           18|                 100|            0|                 100|            0|                  78|           22|                 100|            0|                 100|            0|                  84|        33104|                  22|           22|                null|         null|                null|         null|                 100|            8|                 100|            8|                 200|            0|                null|         null|                null|         null|                null|         null|                null|         null|                null|         null|                null|         null|                null|         null|                null|         null|                 100|          10917|                 100|  34230884104|                 100|  20032800727|                null|         null|                null|         null|                null|         null|                null|         null|                null|         null|\n",
      "|2017-03-25 00:00:00|      Z4D057Z0|         ST6000DX000| 6001175126016|      1|               118|  199270008|              null|       null|                87|          0|               100|          8|               100|          0|                90|  954127410|              null|       null|                81|      17399|                100|           0|               null|        null|                100|           8|               null|        null|               null|        null|               null|        null|                 100|            0|                 100|            0|                 100|            0|                 100|            0|                  96|            4|                  70|           30|                  95|        10271|                 100|            0|                   5|       190597|                  30|           30|                  70|    199270008|                null|         null|                 100|            0|                 100|            0|                 200|            0|                null|         null|                null|         null|                null|         null|                null|         null|                null|         null|                null|         null|                null|         null|                null|         null|                 100|105162274259080|                 100|  37790943048|                 100|  56362104278|                null|         null|                null|         null|                null|         null|                null|         null|                null|         null|\n",
      "|2017-03-25 00:00:00|      Z302SVG2|         ST4000DM000| 4000787030016|      1|               116|  104520320|              null|       null|                95|          0|               100|          5|               100|          0|                87|  556571577|              null|       null|                85|      13227|                100|           0|               null|        null|                100|           5|               null|        null|               null|        null|               null|        null|                 100|            0|                 100|            0|                 100|            0|                 100|            0|                 100|            0|                  65|           35|                 100|            0|                 100|            0|                  94|        12479|                  35|           35|                null|         null|                null|         null|                 100|            8|                 100|            8|                 200|            0|                null|         null|                null|         null|                null|         null|                null|         null|                null|         null|                null|         null|                null|         null|                null|         null|                 100|          13112|                 100|  40148285920|                 100|  11979986044|                null|         null|                null|         null|                null|         null|                null|         null|                null|         null|\n",
      "|2017-03-28 00:00:00|PL1331LAHG20PH|HGST HMS5C4040BLE640| 4000787030016|      1|               100|          0|               134|        100|               100|          0|               100|          3|               100|          0|               100|          0|               113|         42|               100|         59|                100|           0|               null|        null|                100|           3|               null|        null|               null|        null|               null|        null|                null|         null|                null|         null|                null|         null|                null|         null|                null|         null|                null|         null|                null|         null|                 100|            3|                 100|            3|                 240|           25|                null|         null|                 100|            0|                 100|            0|                 100|            0|                 200|            0|                null|         null|                null|         null|                null|         null|                null|         null|                null|         null|                null|         null|                null|         null|                null|         null|                null|           null|                null|         null|                null|         null|                null|         null|                null|         null|                null|         null|                null|         null|                null|         null|\n",
      "+-------------------+--------------+--------------------+--------------+-------+------------------+-----------+------------------+-----------+------------------+-----------+------------------+-----------+------------------+-----------+------------------+-----------+------------------+-----------+------------------+-----------+-------------------+------------+-------------------+------------+-------------------+------------+-------------------+------------+-------------------+------------+-------------------+------------+--------------------+-------------+--------------------+-------------+--------------------+-------------+--------------------+-------------+--------------------+-------------+--------------------+-------------+--------------------+-------------+--------------------+-------------+--------------------+-------------+--------------------+-------------+--------------------+-------------+--------------------+-------------+--------------------+-------------+--------------------+-------------+--------------------+-------------+--------------------+-------------+--------------------+-------------+--------------------+-------------+--------------------+-------------+--------------------+-------------+--------------------+-------------+--------------------+-------------+--------------------+-------------+--------------------+---------------+--------------------+-------------+--------------------+-------------+--------------------+-------------+--------------------+-------------+--------------------+-------------+--------------------+-------------+--------------------+-------------+\n",
      "only showing top 10 rows\n",
      "\n"
     ]
    }
   ],
   "source": [
    "df.filter(col(\"failure\") == 1).show(10)"
   ]
  },
  {
   "cell_type": "code",
   "execution_count": null,
   "metadata": {},
   "outputs": [],
   "source": []
  }
 ],
 "metadata": {
  "kernelspec": {
   "display_name": "Python 2",
   "language": "python",
   "name": "python2"
  },
  "language_info": {
   "codemirror_mode": {
    "name": "ipython",
    "version": 2
   },
   "file_extension": ".py",
   "mimetype": "text/x-python",
   "name": "python",
   "nbconvert_exporter": "python",
   "pygments_lexer": "ipython2",
   "version": "2.7.12rc1"
  }
 },
 "nbformat": 4,
 "nbformat_minor": 2
}

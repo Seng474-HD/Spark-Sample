{
 "cells": [
  {
   "cell_type": "code",
   "execution_count": 1,
   "metadata": {},
   "outputs": [
    {
     "name": "stdout",
     "output_type": "stream",
     "text": [
      "2.7.12rc1 (v2.7.12rc1:13912cd1e7e8, Jun 11 2016, 15:32:34) \n",
      "[GCC 4.2.1 (Apple Inc. build 5666) (dot 3)]\n"
     ]
    }
   ],
   "source": [
    "import sys\n",
    "print(sys.version)\n",
    "from pyspark.sql import SparkSession\n",
    "from pyspark.sql.functions import *"
   ]
  },
  {
   "cell_type": "code",
   "execution_count": 2,
   "metadata": {},
   "outputs": [],
   "source": [
    "spark = SparkSession.builder.master(\"local\").appName(\"SENG474-HD\").getOrCreate()"
   ]
  },
  {
   "cell_type": "code",
   "execution_count": 3,
   "metadata": {},
   "outputs": [],
   "source": [
    "df = spark.read.load('/Users/Matthew/Downloads/data_Q1_2017/2017-01-01.csv', \n",
    "                     format='com.databricks.spark.csv', \n",
    "                     header='true', \n",
    "                     inferSchema='true')"
   ]
  },
  {
   "cell_type": "code",
   "execution_count": 4,
   "metadata": {},
   "outputs": [
    {
     "name": "stdout",
     "output_type": "stream",
     "text": [
      "('Number of data points:', '73653')\n"
     ]
    }
   ],
   "source": [
    "print(\"Number of data points:\", str(df.count()))"
   ]
  },
  {
   "cell_type": "code",
   "execution_count": 5,
   "metadata": {},
   "outputs": [
    {
     "data": {
      "text/plain": [
       "['date',\n",
       " 'serial_number',\n",
       " 'model',\n",
       " 'capacity_bytes',\n",
       " 'failure',\n",
       " 'smart_1_normalized',\n",
       " 'smart_1_raw',\n",
       " 'smart_2_normalized',\n",
       " 'smart_2_raw',\n",
       " 'smart_3_normalized',\n",
       " 'smart_3_raw',\n",
       " 'smart_4_normalized',\n",
       " 'smart_4_raw',\n",
       " 'smart_5_normalized',\n",
       " 'smart_5_raw',\n",
       " 'smart_7_normalized',\n",
       " 'smart_7_raw',\n",
       " 'smart_8_normalized',\n",
       " 'smart_8_raw',\n",
       " 'smart_9_normalized',\n",
       " 'smart_9_raw',\n",
       " 'smart_10_normalized',\n",
       " 'smart_10_raw',\n",
       " 'smart_11_normalized',\n",
       " 'smart_11_raw',\n",
       " 'smart_12_normalized',\n",
       " 'smart_12_raw',\n",
       " 'smart_13_normalized',\n",
       " 'smart_13_raw',\n",
       " 'smart_15_normalized',\n",
       " 'smart_15_raw',\n",
       " 'smart_22_normalized',\n",
       " 'smart_22_raw',\n",
       " 'smart_183_normalized',\n",
       " 'smart_183_raw',\n",
       " 'smart_184_normalized',\n",
       " 'smart_184_raw',\n",
       " 'smart_187_normalized',\n",
       " 'smart_187_raw',\n",
       " 'smart_188_normalized',\n",
       " 'smart_188_raw',\n",
       " 'smart_189_normalized',\n",
       " 'smart_189_raw',\n",
       " 'smart_190_normalized',\n",
       " 'smart_190_raw',\n",
       " 'smart_191_normalized',\n",
       " 'smart_191_raw',\n",
       " 'smart_192_normalized',\n",
       " 'smart_192_raw',\n",
       " 'smart_193_normalized',\n",
       " 'smart_193_raw',\n",
       " 'smart_194_normalized',\n",
       " 'smart_194_raw',\n",
       " 'smart_195_normalized',\n",
       " 'smart_195_raw',\n",
       " 'smart_196_normalized',\n",
       " 'smart_196_raw',\n",
       " 'smart_197_normalized',\n",
       " 'smart_197_raw',\n",
       " 'smart_198_normalized',\n",
       " 'smart_198_raw',\n",
       " 'smart_199_normalized',\n",
       " 'smart_199_raw',\n",
       " 'smart_200_normalized',\n",
       " 'smart_200_raw',\n",
       " 'smart_201_normalized',\n",
       " 'smart_201_raw',\n",
       " 'smart_220_normalized',\n",
       " 'smart_220_raw',\n",
       " 'smart_222_normalized',\n",
       " 'smart_222_raw',\n",
       " 'smart_223_normalized',\n",
       " 'smart_223_raw',\n",
       " 'smart_224_normalized',\n",
       " 'smart_224_raw',\n",
       " 'smart_225_normalized',\n",
       " 'smart_225_raw',\n",
       " 'smart_226_normalized',\n",
       " 'smart_226_raw',\n",
       " 'smart_240_normalized',\n",
       " 'smart_240_raw',\n",
       " 'smart_241_normalized',\n",
       " 'smart_241_raw',\n",
       " 'smart_242_normalized',\n",
       " 'smart_242_raw',\n",
       " 'smart_250_normalized',\n",
       " 'smart_250_raw',\n",
       " 'smart_251_normalized',\n",
       " 'smart_251_raw',\n",
       " 'smart_252_normalized',\n",
       " 'smart_252_raw',\n",
       " 'smart_254_normalized',\n",
       " 'smart_254_raw',\n",
       " 'smart_255_normalized',\n",
       " 'smart_255_raw']"
      ]
     },
     "execution_count": 5,
     "metadata": {},
     "output_type": "execute_result"
    }
   ],
   "source": [
    "df.columns"
   ]
  },
  {
   "cell_type": "code",
   "execution_count": 6,
   "metadata": {},
   "outputs": [
    {
     "name": "stdout",
     "output_type": "stream",
     "text": [
      "+-------------------+---------------+--------------------+--------------+-------+------------------+-----------+------------------+-----------+------------------+-----------+------------------+-----------+------------------+-----------+------------------+-----------+------------------+-----------+------------------+-----------+-------------------+------------+-------------------+------------+-------------------+------------+-------------------+------------+-------------------+------------+-------------------+------------+--------------------+-------------+--------------------+-------------+--------------------+-------------+--------------------+-------------+--------------------+-------------+--------------------+-------------+--------------------+-------------+--------------------+-------------+--------------------+-------------+--------------------+-------------+--------------------+-------------+--------------------+-------------+--------------------+-------------+--------------------+-------------+--------------------+-------------+--------------------+-------------+--------------------+-------------+--------------------+-------------+--------------------+-------------+--------------------+-------------+--------------------+-------------+--------------------+-------------+--------------------+-------------+--------------------+-------------+--------------------+-------------+--------------------+-------------+--------------------+-------------+--------------------+-------------+--------------------+-------------+--------------------+-------------+--------------------+-------------+\n",
      "|               date|  serial_number|               model|capacity_bytes|failure|smart_1_normalized|smart_1_raw|smart_2_normalized|smart_2_raw|smart_3_normalized|smart_3_raw|smart_4_normalized|smart_4_raw|smart_5_normalized|smart_5_raw|smart_7_normalized|smart_7_raw|smart_8_normalized|smart_8_raw|smart_9_normalized|smart_9_raw|smart_10_normalized|smart_10_raw|smart_11_normalized|smart_11_raw|smart_12_normalized|smart_12_raw|smart_13_normalized|smart_13_raw|smart_15_normalized|smart_15_raw|smart_22_normalized|smart_22_raw|smart_183_normalized|smart_183_raw|smart_184_normalized|smart_184_raw|smart_187_normalized|smart_187_raw|smart_188_normalized|smart_188_raw|smart_189_normalized|smart_189_raw|smart_190_normalized|smart_190_raw|smart_191_normalized|smart_191_raw|smart_192_normalized|smart_192_raw|smart_193_normalized|smart_193_raw|smart_194_normalized|smart_194_raw|smart_195_normalized|smart_195_raw|smart_196_normalized|smart_196_raw|smart_197_normalized|smart_197_raw|smart_198_normalized|smart_198_raw|smart_199_normalized|smart_199_raw|smart_200_normalized|smart_200_raw|smart_201_normalized|smart_201_raw|smart_220_normalized|smart_220_raw|smart_222_normalized|smart_222_raw|smart_223_normalized|smart_223_raw|smart_224_normalized|smart_224_raw|smart_225_normalized|smart_225_raw|smart_226_normalized|smart_226_raw|smart_240_normalized|smart_240_raw|smart_241_normalized|smart_241_raw|smart_242_normalized|smart_242_raw|smart_250_normalized|smart_250_raw|smart_251_normalized|smart_251_raw|smart_252_normalized|smart_252_raw|smart_254_normalized|smart_254_raw|smart_255_normalized|smart_255_raw|\n",
      "+-------------------+---------------+--------------------+--------------+-------+------------------+-----------+------------------+-----------+------------------+-----------+------------------+-----------+------------------+-----------+------------------+-----------+------------------+-----------+------------------+-----------+-------------------+------------+-------------------+------------+-------------------+------------+-------------------+------------+-------------------+------------+-------------------+------------+--------------------+-------------+--------------------+-------------+--------------------+-------------+--------------------+-------------+--------------------+-------------+--------------------+-------------+--------------------+-------------+--------------------+-------------+--------------------+-------------+--------------------+-------------+--------------------+-------------+--------------------+-------------+--------------------+-------------+--------------------+-------------+--------------------+-------------+--------------------+-------------+--------------------+-------------+--------------------+-------------+--------------------+-------------+--------------------+-------------+--------------------+-------------+--------------------+-------------+--------------------+-------------+--------------------+-------------+--------------------+-------------+--------------------+-------------+--------------------+-------------+--------------------+-------------+--------------------+-------------+--------------------+-------------+--------------------+-------------+\n",
      "|2017-01-01 00:00:00| MJ0351YNG9Z0XA|Hitachi HDS5C3030...| 3000592982016|      0|               100|          0|               135|        108|               127|        554|               100|         15|               100|          0|               100|          0|               122|         37|                95|      36714|                100|           0|               null|        null|                100|          15|               null|        null|               null|        null|               null|        null|                null|         null|                null|         null|                null|         null|                null|         null|                null|         null|                null|         null|                null|         null|                 100|          410|                 100|          410|                 214|           28|                null|         null|                 100|            0|                 100|            0|                 100|            0|                 200|            0|                null|         null|                null|         null|                null|         null|                null|         null|                null|         null|                null|         null|                null|         null|                null|         null|                null|         null|                null|         null|                null|         null|                null|         null|                null|         null|                null|         null|                null|         null|                null|         null|\n",
      "|2017-01-01 00:00:00| MJ0351YNG9WJSA|Hitachi HDS5C3030...| 3000592982016|      0|               100|          0|               136|        104|               126|        555|               100|         21|               100|          2|               100|          0|               122|         37|                95|      36780|                100|           0|               null|        null|                100|          21|               null|        null|               null|        null|               null|        null|                null|         null|                null|         null|                null|         null|                null|         null|                null|         null|                null|         null|                null|         null|                 100|          450|                 100|          450|                 253|           23|                null|         null|                 100|            2|                 100|            0|                 100|            0|                 200|            0|                null|         null|                null|         null|                null|         null|                null|         null|                null|         null|                null|         null|                null|         null|                null|         null|                null|         null|                null|         null|                null|         null|                null|         null|                null|         null|                null|         null|                null|         null|                null|         null|\n",
      "|2017-01-01 00:00:00| PL1321LAG34XWH|Hitachi HDS5C4040...| 4000787030016|      0|               100|          0|               134|        101|               130|        560|               100|         31|               100|          0|               100|          0|               113|         42|                96|      33373|                100|           0|               null|        null|                100|          31|               null|        null|               null|        null|               null|        null|                null|         null|                null|         null|                null|         null|                null|         null|                null|         null|                null|         null|                null|         null|                 100|           42|                 100|           42|                 206|           29|                null|         null|                 100|            0|                 100|            0|                 100|            0|                 200|            0|                null|         null|                null|         null|                null|         null|                null|         null|                null|         null|                null|         null|                null|         null|                null|         null|                null|         null|                null|         null|                null|         null|                null|         null|                null|         null|                null|         null|                null|         null|                null|         null|\n",
      "|2017-01-01 00:00:00| MJ0351YNGABYAA|Hitachi HDS5C3030...| 3000592982016|      0|               100|          0|               136|        104|               137|        507|               100|         17|               100|          0|               100|          0|               122|         37|                95|      35424|                100|           0|               null|        null|                100|          17|               null|        null|               null|        null|               null|        null|                null|         null|                null|         null|                null|         null|                null|         null|                null|         null|                null|         null|                null|         null|                 100|          441|                 100|          441|                 230|           26|                null|         null|                 100|            0|                 100|            0|                 100|            0|                 200|            0|                null|         null|                null|         null|                null|         null|                null|         null|                null|         null|                null|         null|                null|         null|                null|         null|                null|         null|                null|         null|                null|         null|                null|         null|                null|         null|                null|         null|                null|         null|                null|         null|\n",
      "|2017-01-01 00:00:00|       Z305B2QN|         ST4000DM000| 4000787030016|      0|               113|   58173272|              null|       null|                91|          0|               100|          8|               100|          0|                85|  388359773|              null|       null|                90|       9195|                100|           0|               null|        null|                100|           8|               null|        null|               null|        null|               null|        null|                 100|            0|                 100|            0|                 100|            0|                 100|            0|                 100|            0|                  76|           24|                 100|            0|                 100|            0|                  84|        33904|                  24|           24|                null|         null|                null|         null|                 100|            0|                 100|            0|                 200|            0|                null|         null|                null|         null|                null|         null|                null|         null|                null|         null|                null|         null|                null|         null|                null|         null|                 100|         8947|                 100|  30780539952|                 100|   8290868549|                null|         null|                null|         null|                null|         null|                null|         null|                null|         null|\n",
      "|2017-01-01 00:00:00| PL2331LAGN2YTJ|HGST HMS5C4040BLE640| 4000787030016|      0|               100|          0|               133|        104|               100|        448|               100|          5|               100|          0|               100|          0|               109|         44|                97|      23221|                100|           0|               null|        null|                100|           5|               null|        null|               null|        null|               null|        null|                null|         null|                null|         null|                null|         null|                null|         null|                null|         null|                null|         null|                null|         null|                 100|          234|                 100|          234|                 214|           28|                null|         null|                 100|            0|                 100|            0|                 100|            0|                 200|            0|                null|         null|                null|         null|                null|         null|                null|         null|                null|         null|                null|         null|                null|         null|                null|         null|                null|         null|                null|         null|                null|         null|                null|         null|                null|         null|                null|         null|                null|         null|                null|         null|\n",
      "|2017-01-01 00:00:00|WD-WMC4N2899475|        WDC WD30EFRX| 3000592982016|      0|               200|          0|              null|       null|               175|       6250|               100|         12|               200|          0|               100|          0|              null|       null|                72|      20972|                100|           0|                100|           0|                100|          12|               null|        null|               null|        null|               null|        null|                null|         null|                null|         null|                null|         null|                null|         null|                null|         null|                null|         null|                null|         null|                 200|            3|                 200|          674|                 120|           30|                null|         null|                 200|            0|                 200|            0|                 100|            0|                 200|            0|                 100|            0|                null|         null|                null|         null|                null|         null|                null|         null|                null|         null|                null|         null|                null|         null|                null|         null|                null|         null|                null|         null|                null|         null|                null|         null|                null|         null|                null|         null|                null|         null|\n",
      "|2017-01-01 00:00:00|       Z302A0YH|         ST4000DM000| 4000787030016|      0|               114|   75626904|              null|       null|                92|          0|               100|         19|               100|          0|                88|  785458463|              null|       null|                81|      17043|                100|           0|               null|        null|                100|          19|               null|        null|               null|        null|               null|        null|                 100|            0|                 100|            0|                 100|            0|                 100|            1|                 100|            0|                  81|           19|                 100|            0|                 100|            0|                  81|        39656|                  19|           19|                null|         null|                null|         null|                 100|            0|                 100|            0|                 200|            0|                null|         null|                null|         null|                null|         null|                null|         null|                null|         null|                null|         null|                null|         null|                null|         null|                 100|        16788|                 100|  21648124248|                 100| 162013891630|                null|         null|                null|         null|                null|         null|                null|         null|                null|         null|\n",
      "|2017-01-01 00:00:00|       Z305BT0W|         ST4000DM000| 4000787030016|      0|               112|   48893128|              null|       null|                93|          0|               100|          7|               100|          0|                84|  316494047|              null|       null|                92|       7857|                100|           0|               null|        null|                100|           7|               null|        null|               null|        null|               null|        null|                 100|            0|                 100|            0|                 100|            0|                 100|            0|                 100|            0|                  70|           30|                 100|            0|                 100|            0|                  96|         9073|                  30|           30|                null|         null|                null|         null|                 100|            0|                 100|            0|                 200|            0|                null|         null|                null|         null|                null|         null|                null|         null|                null|         null|                null|         null|                null|         null|                null|         null|                 100|         7771|                 100|  26168289344|                 100|  15892146696|                null|         null|                null|         null|                null|         null|                null|         null|                null|         null|\n",
      "|2017-01-01 00:00:00|       ZA130TTW|         ST8000DM002| 8001563222016|      0|                83|  199683560|              null|       null|                98|          0|               100|          1|               100|          0|                87|  511172192|              null|       null|                98|       2245|                100|           0|               null|        null|                100|           1|               null|        null|               null|        null|               null|        null|                null|         null|                 100|            0|                 100|            0|                 100|            0|                 100|            0|                  73|           27|                  94|        12799|                 100|            0|                 100|          395|                  27|           27|                   1|    199683560|                null|         null|                 100|            0|                 100|            0|                 200|            0|                null|         null|                null|         null|                null|         null|                null|         null|                null|         null|                null|         null|                null|         null|                null|         null|                 100|         2214|                 100|  18317907032|                 100|   4279720702|                null|         null|                null|         null|                null|         null|                null|         null|                null|         null|\n",
      "+-------------------+---------------+--------------------+--------------+-------+------------------+-----------+------------------+-----------+------------------+-----------+------------------+-----------+------------------+-----------+------------------+-----------+------------------+-----------+------------------+-----------+-------------------+------------+-------------------+------------+-------------------+------------+-------------------+------------+-------------------+------------+-------------------+------------+--------------------+-------------+--------------------+-------------+--------------------+-------------+--------------------+-------------+--------------------+-------------+--------------------+-------------+--------------------+-------------+--------------------+-------------+--------------------+-------------+--------------------+-------------+--------------------+-------------+--------------------+-------------+--------------------+-------------+--------------------+-------------+--------------------+-------------+--------------------+-------------+--------------------+-------------+--------------------+-------------+--------------------+-------------+--------------------+-------------+--------------------+-------------+--------------------+-------------+--------------------+-------------+--------------------+-------------+--------------------+-------------+--------------------+-------------+--------------------+-------------+--------------------+-------------+--------------------+-------------+--------------------+-------------+--------------------+-------------+\n",
      "only showing top 10 rows\n",
      "\n",
      "None\n"
     ]
    }
   ],
   "source": [
    "print(df.show(10, True))"
   ]
  },
  {
   "cell_type": "code",
   "execution_count": 7,
   "metadata": {},
   "outputs": [],
   "source": [
    "from pyspark.mllib.regression import LabeledPoint\n",
    "def transform_data(data):\n",
    "    prediction_col = \"failure\"\n",
    "    columns = []#[\"serial_number\", \"model\", \"capacity_bytes\"]\n",
    "    # Add Smart columns.\n",
    "    for i in range(1, 255):\n",
    "        test_col = \"smart_\" + str(i) + \"_normalized\"\n",
    "        try:\n",
    "            data[test_col]\n",
    "            columns.append(test_col)\n",
    "        except:\n",
    "            pass\n",
    "    return LabeledPoint(float(data[prediction_col]), [0.0 if data[i] is None else data[i] for i in columns])"
   ]
  },
  {
   "cell_type": "code",
   "execution_count": 8,
   "metadata": {},
   "outputs": [],
   "source": [
    "df_model = df.rdd.map(transform_data)\n",
    "#print(df_model.count())"
   ]
  },
  {
   "cell_type": "code",
   "execution_count": 9,
   "metadata": {},
   "outputs": [],
   "source": [
    "(trainingData, testData) = df_model.randomSplit([0.7, 0.3])"
   ]
  },
  {
   "cell_type": "code",
   "execution_count": 10,
   "metadata": {},
   "outputs": [],
   "source": [
    "from pyspark.mllib.tree import DecisionTree\n",
    "dt = DecisionTree.trainClassifier(trainingData, numClasses=2,\n",
    "                             categoricalFeaturesInfo={})"
   ]
  },
  {
   "cell_type": "code",
   "execution_count": 12,
   "metadata": {},
   "outputs": [
    {
     "name": "stdout",
     "output_type": "stream",
     "text": [
      "('Test Error: ', '0.0')\n"
     ]
    }
   ],
   "source": [
    "predictions = dt.predict(testData.map(lambda x: x.features))\n",
    "labels_and_predictions = testData.map(lambda lp: lp.label).zip(predictions)\n",
    "testErr = float(labels_and_predictions.filter(lambda lp: lp[0] != lp[1]).count()) / float(testData.count())\n",
    "print(\"Test Error: \", str(testErr))"
   ]
  },
  {
   "cell_type": "code",
   "execution_count": 21,
   "metadata": {},
   "outputs": [
    {
     "ename": "AttributeError",
     "evalue": "'RDD' object has no attribute 'show'",
     "output_type": "error",
     "traceback": [
      "\u001b[0;31m---------------------------------------------------------------------------\u001b[0m",
      "\u001b[0;31mAttributeError\u001b[0m                            Traceback (most recent call last)",
      "\u001b[0;32m<ipython-input-21-2eb66d28a26d>\u001b[0m in \u001b[0;36m<module>\u001b[0;34m()\u001b[0m\n\u001b[0;32m----> 1\u001b[0;31m \u001b[0mlabels_and_predictions\u001b[0m\u001b[0;34m.\u001b[0m\u001b[0mshow\u001b[0m\u001b[0;34m(\u001b[0m\u001b[0;36m10\u001b[0m\u001b[0;34m,\u001b[0m \u001b[0mFalse\u001b[0m\u001b[0;34m)\u001b[0m\u001b[0;34m\u001b[0m\u001b[0m\n\u001b[0m",
      "\u001b[0;31mAttributeError\u001b[0m: 'RDD' object has no attribute 'show'"
     ]
    }
   ],
   "source": [
    "labels_and_predictions.show(10, False)"
   ]
  },
  {
   "cell_type": "code",
   "execution_count": 22,
   "metadata": {},
   "outputs": [
    {
     "ename": "AttributeError",
     "evalue": "'numpy.ndarray' object has no attribute '_jrdd_deserializer'",
     "output_type": "error",
     "traceback": [
      "\u001b[0;31m---------------------------------------------------------------------------\u001b[0m",
      "\u001b[0;31mAttributeError\u001b[0m                            Traceback (most recent call last)",
      "\u001b[0;32m<ipython-input-22-a35f37c41348>\u001b[0m in \u001b[0;36m<module>\u001b[0;34m()\u001b[0m\n\u001b[1;32m      4\u001b[0m \u001b[0mclf\u001b[0m\u001b[0;34m.\u001b[0m\u001b[0mfit\u001b[0m\u001b[0;34m(\u001b[0m\u001b[0mtrainingData\u001b[0m\u001b[0;34m.\u001b[0m\u001b[0mmap\u001b[0m\u001b[0;34m(\u001b[0m\u001b[0;32mlambda\u001b[0m \u001b[0mx\u001b[0m\u001b[0;34m:\u001b[0m \u001b[0mx\u001b[0m\u001b[0;34m.\u001b[0m\u001b[0mfeatures\u001b[0m\u001b[0;34m)\u001b[0m\u001b[0;34m.\u001b[0m\u001b[0mcollect\u001b[0m\u001b[0;34m(\u001b[0m\u001b[0;34m)\u001b[0m\u001b[0;34m,\u001b[0m \u001b[0mtrainingData\u001b[0m\u001b[0;34m.\u001b[0m\u001b[0mmap\u001b[0m\u001b[0;34m(\u001b[0m\u001b[0;32mlambda\u001b[0m \u001b[0mx\u001b[0m\u001b[0;34m:\u001b[0m \u001b[0mx\u001b[0m\u001b[0;34m.\u001b[0m\u001b[0mlabel\u001b[0m\u001b[0;34m)\u001b[0m\u001b[0;34m.\u001b[0m\u001b[0mcollect\u001b[0m\u001b[0;34m(\u001b[0m\u001b[0;34m)\u001b[0m\u001b[0;34m)\u001b[0m\u001b[0;34m\u001b[0m\u001b[0m\n\u001b[1;32m      5\u001b[0m \u001b[0mpredictions\u001b[0m \u001b[0;34m=\u001b[0m \u001b[0mclf\u001b[0m\u001b[0;34m.\u001b[0m\u001b[0mpredict\u001b[0m\u001b[0;34m(\u001b[0m\u001b[0mtestData\u001b[0m\u001b[0;34m.\u001b[0m\u001b[0mmap\u001b[0m\u001b[0;34m(\u001b[0m\u001b[0;32mlambda\u001b[0m \u001b[0mx\u001b[0m\u001b[0;34m:\u001b[0m \u001b[0mx\u001b[0m\u001b[0;34m.\u001b[0m\u001b[0mfeatures\u001b[0m\u001b[0;34m)\u001b[0m\u001b[0;34m.\u001b[0m\u001b[0mcollect\u001b[0m\u001b[0;34m(\u001b[0m\u001b[0;34m)\u001b[0m\u001b[0;34m)\u001b[0m\u001b[0;34m\u001b[0m\u001b[0m\n\u001b[0;32m----> 6\u001b[0;31m \u001b[0mlabels_and_predictions\u001b[0m \u001b[0;34m=\u001b[0m \u001b[0mtestData\u001b[0m\u001b[0;34m.\u001b[0m\u001b[0mmap\u001b[0m\u001b[0;34m(\u001b[0m\u001b[0;32mlambda\u001b[0m \u001b[0mlp\u001b[0m\u001b[0;34m:\u001b[0m \u001b[0mlp\u001b[0m\u001b[0;34m.\u001b[0m\u001b[0mlabel\u001b[0m\u001b[0;34m)\u001b[0m\u001b[0;34m.\u001b[0m\u001b[0mzip\u001b[0m\u001b[0;34m(\u001b[0m\u001b[0mpredictions\u001b[0m\u001b[0;34m)\u001b[0m\u001b[0;34m\u001b[0m\u001b[0m\n\u001b[0m\u001b[1;32m      7\u001b[0m \u001b[0mtestErr\u001b[0m \u001b[0;34m=\u001b[0m \u001b[0mfloat\u001b[0m\u001b[0;34m(\u001b[0m\u001b[0mlabels_and_predictions\u001b[0m\u001b[0;34m.\u001b[0m\u001b[0mfilter\u001b[0m\u001b[0;34m(\u001b[0m\u001b[0;32mlambda\u001b[0m \u001b[0mlp\u001b[0m\u001b[0;34m:\u001b[0m \u001b[0mlp\u001b[0m\u001b[0;34m[\u001b[0m\u001b[0;36m0\u001b[0m\u001b[0;34m]\u001b[0m \u001b[0;34m!=\u001b[0m \u001b[0mlp\u001b[0m\u001b[0;34m[\u001b[0m\u001b[0;36m1\u001b[0m\u001b[0;34m]\u001b[0m\u001b[0;34m)\u001b[0m\u001b[0;34m.\u001b[0m\u001b[0mcount\u001b[0m\u001b[0;34m(\u001b[0m\u001b[0;34m)\u001b[0m\u001b[0;34m)\u001b[0m \u001b[0;34m/\u001b[0m \u001b[0mfloat\u001b[0m\u001b[0;34m(\u001b[0m\u001b[0mtestData\u001b[0m\u001b[0;34m.\u001b[0m\u001b[0mcount\u001b[0m\u001b[0;34m(\u001b[0m\u001b[0;34m)\u001b[0m\u001b[0;34m)\u001b[0m\u001b[0;34m\u001b[0m\u001b[0m\n\u001b[1;32m      8\u001b[0m \u001b[0;32mprint\u001b[0m\u001b[0;34m(\u001b[0m\u001b[0;34m\"SKLean Test Error: \"\u001b[0m\u001b[0;34m,\u001b[0m \u001b[0mstr\u001b[0m\u001b[0;34m(\u001b[0m\u001b[0mtestErr\u001b[0m\u001b[0;34m)\u001b[0m\u001b[0;34m)\u001b[0m\u001b[0;34m\u001b[0m\u001b[0m\n",
      "\u001b[0;32m/Users/Matthew/Documents/School/Post-Secondary/SENG_474/project/env/lib/python2.7/site-packages/pyspark/rdd.pyc\u001b[0m in \u001b[0;36mzip\u001b[0;34m(self, other)\u001b[0m\n\u001b[1;32m   2116\u001b[0m \u001b[0;34m\u001b[0m\u001b[0m\n\u001b[1;32m   2117\u001b[0m         \u001b[0mmy_batch\u001b[0m \u001b[0;34m=\u001b[0m \u001b[0mget_batch_size\u001b[0m\u001b[0;34m(\u001b[0m\u001b[0mself\u001b[0m\u001b[0;34m.\u001b[0m\u001b[0m_jrdd_deserializer\u001b[0m\u001b[0;34m)\u001b[0m\u001b[0;34m\u001b[0m\u001b[0m\n\u001b[0;32m-> 2118\u001b[0;31m         \u001b[0mother_batch\u001b[0m \u001b[0;34m=\u001b[0m \u001b[0mget_batch_size\u001b[0m\u001b[0;34m(\u001b[0m\u001b[0mother\u001b[0m\u001b[0;34m.\u001b[0m\u001b[0m_jrdd_deserializer\u001b[0m\u001b[0;34m)\u001b[0m\u001b[0;34m\u001b[0m\u001b[0m\n\u001b[0m\u001b[1;32m   2119\u001b[0m         \u001b[0;32mif\u001b[0m \u001b[0mmy_batch\u001b[0m \u001b[0;34m!=\u001b[0m \u001b[0mother_batch\u001b[0m \u001b[0;32mor\u001b[0m \u001b[0;32mnot\u001b[0m \u001b[0mmy_batch\u001b[0m\u001b[0;34m:\u001b[0m\u001b[0;34m\u001b[0m\u001b[0m\n\u001b[1;32m   2120\u001b[0m             \u001b[0;31m# use the smallest batchSize for both of them\u001b[0m\u001b[0;34m\u001b[0m\u001b[0;34m\u001b[0m\u001b[0m\n",
      "\u001b[0;31mAttributeError\u001b[0m: 'numpy.ndarray' object has no attribute '_jrdd_deserializer'"
     ]
    }
   ],
   "source": [
    "import sklearn\n",
    "from sklearn.ensemble import RandomForestClassifier\n",
    "clf = RandomForestClassifier(max_depth=2, random_state=0)\n",
    "clf.fit(trainingData.map(lambda x: x.features).collect(), trainingData.map(lambda x: x.label).collect())\n",
    "predictions = clf.predict(testData.map(lambda x: x.features).collect())\n",
    "labels_and_predictions = testData.map(lambda lp: lp.label).zip(predictions)\n",
    "testErr = float(labels_and_predictions.filter(lambda lp: lp[0] != lp[1]).count()) / float(testData.count())\n",
    "print(\"SKLean Test Error: \", str(testErr))"
   ]
  },
  {
   "cell_type": "code",
   "execution_count": null,
   "metadata": {},
   "outputs": [],
   "source": []
  }
 ],
 "metadata": {
  "kernelspec": {
   "display_name": "Python 2",
   "language": "python",
   "name": "python2"
  },
  "language_info": {
   "codemirror_mode": {
    "name": "ipython",
    "version": 2
   },
   "file_extension": ".py",
   "mimetype": "text/x-python",
   "name": "python",
   "nbconvert_exporter": "python",
   "pygments_lexer": "ipython2",
   "version": "2.7.12rc1"
  }
 },
 "nbformat": 4,
 "nbformat_minor": 2
}
